{
 "cells": [
  {
   "cell_type": "markdown",
   "id": "7cd5f0d3-9288-4596-9e62-1007fc973766",
   "metadata": {},
   "source": [
    "# Data Science Tools and Ecosystem"
   ]
  },
  {
   "cell_type": "markdown",
   "id": "3357c9f9-b8c1-411d-812e-9d06617582d4",
   "metadata": {},
   "source": [
    "In this notebook, Data Science Tools and Ecosystem are summarized."
   ]
  },
  {
   "cell_type": "markdown",
   "id": "d5e40d22-b7bf-4f38-a6ff-f67523284e15",
   "metadata": {},
   "source": [
    "Objectives:\n",
    "- List popular languages for Data Science  \n",
    "- commonly used libraries used by Data Scientists\n",
    "- Data Science Tools\n",
    "- evaluating arithmetic expressions in Python"
   ]
  },
  {
   "cell_type": "markdown",
   "id": "0e4a8bbe-2b86-4622-b4b3-fb72eb40aa0b",
   "metadata": {
    "tags": []
   },
   "source": [
    "Some of the popular languages that Data Scientists use are:\n",
    "1. Python\n",
    "2. Java\n",
    "3. R"
   ]
  },
  {
   "cell_type": "markdown",
   "id": "f6fde9ce-07b7-4784-8c41-d1ca010fd6f0",
   "metadata": {
    "tags": []
   },
   "source": [
    "Some of the commonly used libraries used by Data Scientists include:\n",
    "- Numpy\n",
    "- Pandas\n",
    "- Matplotlib"
   ]
  },
  {
   "cell_type": "markdown",
   "id": "5a0692bf-163f-478a-9b4f-b9113205b3c5",
   "metadata": {
    "tags": []
   },
   "source": [
    "| Data Science Tools |\n",
    "|------------------|\n",
    "|Jupyter|\n",
    "|RStudio|\n",
    "|Apache Spark|"
   ]
  },
  {
   "cell_type": "markdown",
   "id": "6c778e9b-8dd8-4e65-8b6a-c04082d543cd",
   "metadata": {
    "tags": []
   },
   "source": [
    "### Below are a few examples of evaluating arithmetic expressions in Python"
   ]
  },
  {
   "cell_type": "code",
   "execution_count": 34,
   "id": "a4f1c493-14a3-4622-a4a1-897af34483e3",
   "metadata": {
    "tags": []
   },
   "outputs": [
    {
     "data": {
      "text/plain": [
       "17"
      ]
     },
     "execution_count": 34,
     "metadata": {},
     "output_type": "execute_result"
    }
   ],
   "source": [
    "#This a simple arithmetic expression to mutiply then add integers \n",
    "(3*4)+5"
   ]
  },
  {
   "cell_type": "code",
   "execution_count": 35,
   "id": "7638977d-85b2-4fe9-b442-4714bd6dd4d9",
   "metadata": {
    "tags": []
   },
   "outputs": [
    {
     "data": {
      "text/plain": [
       "20"
      ]
     },
     "execution_count": 35,
     "metadata": {},
     "output_type": "execute_result"
    }
   ],
   "source": [
    "#This will convert 200 minutes to hours by diving by 60\n",
    "200%60"
   ]
  },
  {
   "cell_type": "markdown",
   "id": "f7872d5f-54db-405e-bc62-8db062095d97",
   "metadata": {},
   "source": [
    "## Author"
   ]
  },
  {
   "cell_type": "markdown",
   "id": "5b92b85e-11ee-4bbc-b3b8-e34b8278641a",
   "metadata": {},
   "source": [
    "Asma Suliman"
   ]
  },
  {
   "cell_type": "code",
   "execution_count": null,
   "id": "4cee2b8f-2d86-4ca4-b102-e399c1a280b4",
   "metadata": {},
   "outputs": [],
   "source": []
  }
 ],
 "metadata": {
  "kernelspec": {
   "display_name": "Python",
   "language": "python",
   "name": "conda-env-python-py"
  },
  "language_info": {
   "codemirror_mode": {
    "name": "ipython",
    "version": 3
   },
   "file_extension": ".py",
   "mimetype": "text/x-python",
   "name": "python",
   "nbconvert_exporter": "python",
   "pygments_lexer": "ipython3",
   "version": "3.7.12"
  }
 },
 "nbformat": 4,
 "nbformat_minor": 5
}
